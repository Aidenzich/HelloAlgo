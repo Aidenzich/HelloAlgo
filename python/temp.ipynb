{
 "cells": [
  {
   "cell_type": "code",
   "execution_count": 1,
   "metadata": {},
   "outputs": [],
   "source": [
    "temp = {\n",
    "    1: [],\n",
    "    2: [2, 1, 3],\n",
    "    3: [],\n",
    "    4: [4, 5],\n",
    "    5: []\n",
    "}"
   ]
  },
  {
   "cell_type": "code",
   "execution_count": 2,
   "metadata": {},
   "outputs": [
    {
     "name": "stdout",
     "output_type": "stream",
     "text": [
      "{1: [], 2: [2, 1, 3], 3: [], 4: [4, 5], 5: []}\n",
      "{1: [], 2: [2, 1, 3], 3: [], 4: [4, 5], 5: []}\n"
     ]
    }
   ],
   "source": [
    "import copy\n",
    "# common function\n",
    "def move_above_back(block, target_x, target_y):\n",
    "    \n",
    "    for mb in block[target_x][target_y+1:]:\n",
    "        block[mb].append(mb)\n",
    "\n",
    "    block[target_x] = block[target_x][:target_y+1]\n",
    "\n",
    "\n",
    "block = copy.deepcopy(temp)\n",
    "print(block)\n",
    "move_above_back(block, 1, 0)\n",
    "print(block)"
   ]
  },
  {
   "cell_type": "code",
   "execution_count": 3,
   "metadata": {},
   "outputs": [
    {
     "name": "stdout",
     "output_type": "stream",
     "text": [
      "{1: [], 2: [2, 1, 3], 3: [], 4: [4, 5], 5: []}\n",
      "{1: [1], 2: [], 3: [3], 4: [4, 2], 5: [5]}\n"
     ]
    }
   ],
   "source": [
    "# move a onto b: clear the blocks above a and b, then move a onto b\n",
    "def move_onto(block, from_x, from_y, to_x, to_y):    \n",
    "    move_above_back(block, from_x, from_y)\n",
    "    move_above_back(block, to_x, to_y)\n",
    "    block[to_x].append(block[from_x][from_y])\n",
    "    block[from_x] = block[from_x][:from_y]\n",
    "    \n",
    "    \n",
    "block = copy.deepcopy(temp)\n",
    "print(block)\n",
    "move_onto(block, 2, 0, 4, 0)\n",
    "print(block)"
   ]
  },
  {
   "cell_type": "code",
   "execution_count": 4,
   "metadata": {},
   "outputs": [
    {
     "name": "stdout",
     "output_type": "stream",
     "text": [
      "{1: [], 2: [2, 1, 3], 3: [], 4: [4, 5], 5: []}\n",
      "{1: [1], 2: [], 3: [3], 4: [4, 5, 2], 5: []}\n"
     ]
    }
   ],
   "source": [
    "# move a over b: clear blocks above a, then move a on the top of the pile\n",
    "def move_over(block, from_x, from_y, to_x):\n",
    "    move_above_back(block, from_x, from_y)\n",
    "    block[to_x].append(block[from_x][from_y])\n",
    "    block[from_x] = block[from_x][:from_y]\n",
    "\n",
    "block = copy.deepcopy(temp)\n",
    "print(block)\n",
    "move_over(block, 2, 0, 4)\n",
    "print(block)"
   ]
  },
  {
   "cell_type": "code",
   "execution_count": 5,
   "metadata": {},
   "outputs": [
    {
     "name": "stdout",
     "output_type": "stream",
     "text": [
      "{1: [], 2: [2, 1, 3], 3: [], 4: [4, 5], 5: []}\n",
      "{1: [], 2: [], 3: [], 4: [4, 2, 1, 3], 5: [5]}\n"
     ]
    }
   ],
   "source": [
    "# pile a onto b: clear blocks above b, then move a and blocks above a onto b\n",
    "def pile_onto(block, from_x, from_y, to_x, to_y):\n",
    "    move_above_back(block, to_x, to_y)    \n",
    "    block[to_x].extend(block[from_x][:from_y+1])\n",
    "    block[from_x] = []\n",
    "    \n",
    "\n",
    "block = copy.deepcopy(temp)\n",
    "print(block)\n",
    "pile_onto(block, 2, 2, 4, 0)\n",
    "print(block)\n"
   ]
  },
  {
   "cell_type": "code",
   "execution_count": 17,
   "metadata": {},
   "outputs": [
    {
     "name": "stdout",
     "output_type": "stream",
     "text": [
      "{1: [], 2: [2, 1, 3], 3: [], 4: [4, 5], 5: []}\n",
      "{1: [], 2: [], 3: [], 4: [4, 5, 2, 1, 3], 5: []}\n"
     ]
    }
   ],
   "source": [
    "# pile a over b: move a and elem above onto b's pile\n",
    "def pile_onto(block, from_x, from_y, to_x, to_y):\n",
    "    block[to_x].extend(block[from_x][from_y:])\n",
    "    block[from_x] = []\n",
    "    return block\n",
    "\n",
    "space = copy.deepcopy(temp)\n",
    "print(space)\n",
    "pile_onto(space, 2, 0, 4, 0)\n",
    "print(space)"
   ]
  },
  {
   "cell_type": "code",
   "execution_count": 28,
   "metadata": {},
   "outputs": [
    {
     "name": "stdout",
     "output_type": "stream",
     "text": [
      "{1: [], 2: [], 3: [], 4: [4, 5, 2, 1, 3], 5: []}\n"
     ]
    },
    {
     "data": {
      "text/plain": [
       "(4, 3)"
      ]
     },
     "execution_count": 28,
     "metadata": {},
     "output_type": "execute_result"
    }
   ],
   "source": [
    "def get_xy(block ,a, x, y):\n",
    "    for elem, _ in enumerate(range(x), start=1):\n",
    "        for j in range(y):\n",
    "            if j >= len(block[elem]):\n",
    "                break\n",
    "            if (block[elem][j] == a):\n",
    "                return elem, j\n",
    "\n",
    "    raise ValueError()\n",
    "\n",
    "print(space)\n",
    "get_xy(space, 1, len(space), 10)"
   ]
  },
  {
   "cell_type": "code",
   "execution_count": 7,
   "metadata": {},
   "outputs": [
    {
     "ename": "TypeError",
     "evalue": "pile_onto() missing 3 required positional arguments: 'from_y', 'to_x', and 'to_y'",
     "output_type": "error",
     "traceback": [
      "\u001b[0;31m---------------------------------------------------------------------------\u001b[0m",
      "\u001b[0;31mTypeError\u001b[0m                                 Traceback (most recent call last)",
      "\u001b[0;32m/var/folders/rn/381bnd0n34vbtmfxhzwjrw900000gn/T/ipykernel_77359/1297097067.py\u001b[0m in \u001b[0;36m<module>\u001b[0;34m\u001b[0m\n\u001b[1;32m     10\u001b[0m \u001b[0;34m\u001b[0m\u001b[0m\n\u001b[1;32m     11\u001b[0m \u001b[0;34m\u001b[0m\u001b[0m\n\u001b[0;32m---> 12\u001b[0;31m \u001b[0mpile_onto\u001b[0m\u001b[0;34m(\u001b[0m\u001b[0mspace\u001b[0m\u001b[0;34m,\u001b[0m \u001b[0;36m1\u001b[0m\u001b[0;34m,\u001b[0m \u001b[0;34m)\u001b[0m\u001b[0;34m\u001b[0m\u001b[0;34m\u001b[0m\u001b[0m\n\u001b[0m\u001b[1;32m     13\u001b[0m \u001b[0;34m\u001b[0m\u001b[0m\n\u001b[1;32m     14\u001b[0m \u001b[0;34m\u001b[0m\u001b[0m\n",
      "\u001b[0;31mTypeError\u001b[0m: pile_onto() missing 3 required positional arguments: 'from_y', 'to_x', and 'to_y'"
     ]
    }
   ],
   "source": [
    "space = {}\n",
    "xy_detail = {}\n",
    "\n",
    "# N, M = list(map(lambda x: int(x), input().split()))\n",
    "N = 10\n",
    "\n",
    "\n",
    "\n",
    "\n",
    "pile_onto(space, 1, )\n",
    "\n",
    "\n"
   ]
  }
 ],
 "metadata": {
  "interpreter": {
   "hash": "aa781dd5d8b0b47d7fc97d3d29d31ddde4cdca0824a34701095d27847d24a55d"
  },
  "kernelspec": {
   "display_name": "Python 3.9.5 ('base')",
   "language": "python",
   "name": "python3"
  },
  "language_info": {
   "codemirror_mode": {
    "name": "ipython",
    "version": 3
   },
   "file_extension": ".py",
   "mimetype": "text/x-python",
   "name": "python",
   "nbconvert_exporter": "python",
   "pygments_lexer": "ipython3",
   "version": "3.9.5"
  },
  "orig_nbformat": 4
 },
 "nbformat": 4,
 "nbformat_minor": 2
}
